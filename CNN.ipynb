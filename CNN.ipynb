{
 "cells": [
  {
   "cell_type": "code",
   "execution_count": 1,
   "id": "679f10fa",
   "metadata": {
    "execution": {
     "iopub.execute_input": "2022-10-06T14:19:22.131398Z",
     "iopub.status.busy": "2022-10-06T14:19:22.131028Z",
     "iopub.status.idle": "2022-10-06T14:19:29.678033Z",
     "shell.execute_reply": "2022-10-06T14:19:29.676648Z"
    },
    "papermill": {
     "duration": 7.57094,
     "end_time": "2022-10-06T14:19:29.680888",
     "exception": false,
     "start_time": "2022-10-06T14:19:22.109948",
     "status": "completed"
    },
    "tags": []
   },
   "outputs": [
    {
     "name": "stdout",
     "output_type": "stream",
     "text": [
      "Automatically created module for IPython interactive environment\n"
     ]
    }
   ],
   "source": [
    "from time import time\n",
    "import logging\n",
    "import matplotlib.pyplot as plt\n",
    "import numpy as np\n",
    "import sklearn.metrics as metrics\n",
    "\n",
    "from sklearn.model_selection import train_test_split\n",
    "\n",
    "from sklearn.datasets import fetch_lfw_people\n",
    "from sklearn.metrics import classification_report\n",
    "from sklearn.metrics import confusion_matrix\n",
    "\n",
    "\n",
    "#  Importing Tensorflow\n",
    "import tensorflow as tf\n",
    "# Importing keras\n",
    "from tensorflow import keras\n",
    "\n",
    "print(__doc__)\n",
    "\n",
    "# Display progress logs on stdout\n",
    "logging.basicConfig(level=logging.INFO, format='%(asctime)s %(message)s')\n",
    "\n",
    "\n"
   ]
  },
  {
   "cell_type": "code",
   "execution_count": 2,
   "id": "3adbc1fa",
   "metadata": {
    "execution": {
     "iopub.execute_input": "2022-10-06T14:19:29.721742Z",
     "iopub.status.busy": "2022-10-06T14:19:29.721316Z",
     "iopub.status.idle": "2022-10-06T14:20:01.401096Z",
     "shell.execute_reply": "2022-10-06T14:20:01.400104Z"
    },
    "papermill": {
     "duration": 31.702474,
     "end_time": "2022-10-06T14:20:01.404325",
     "exception": false,
     "start_time": "2022-10-06T14:19:29.701851",
     "status": "completed"
    },
    "tags": []
   },
   "outputs": [],
   "source": [
    "# #############################################################################\n",
    "# Download the data, if not already on disk and load it as numpy arrays\n",
    "\n",
    "lfw_people = fetch_lfw_people(min_faces_per_person=70, resize=0.4)\n",
    "\n",
    "# introspect the images arrays to find the shapes (for plotting)\n",
    "n_samples, h, w = lfw_people.images.shape"
   ]
  },
  {
   "cell_type": "code",
   "execution_count": 3,
   "id": "dce775a8",
   "metadata": {
    "execution": {
     "iopub.execute_input": "2022-10-06T14:20:01.443220Z",
     "iopub.status.busy": "2022-10-06T14:20:01.442582Z",
     "iopub.status.idle": "2022-10-06T14:20:01.457558Z",
     "shell.execute_reply": "2022-10-06T14:20:01.456253Z"
    },
    "papermill": {
     "duration": 0.03796,
     "end_time": "2022-10-06T14:20:01.460744",
     "exception": false,
     "start_time": "2022-10-06T14:20:01.422784",
     "status": "completed"
    },
    "tags": []
   },
   "outputs": [
    {
     "name": "stdout",
     "output_type": "stream",
     "text": [
      "Total dataset size:\n",
      "n_samples: 1288\n",
      "n_features: 1850\n",
      "n_classes: 7\n",
      "Dimensions:\n",
      "Picture height: 50\n",
      "Picture width: 37\n"
     ]
    },
    {
     "data": {
      "text/plain": [
       "array(['Ariel Sharon', 'Colin Powell', 'Donald Rumsfeld', 'George W Bush',\n",
       "       'Gerhard Schroeder', 'Hugo Chavez', 'Tony Blair'], dtype='<U17')"
      ]
     },
     "execution_count": 3,
     "metadata": {},
     "output_type": "execute_result"
    }
   ],
   "source": [
    "\n",
    "\n",
    "# for machine learning we use the 2 data directly (as relative pixel\n",
    "# positions info is ignored by this model)\n",
    "X = lfw_people.data\n",
    "n_features = X.shape[1]\n",
    "\n",
    "# the label to predict is the id of the person\n",
    "y = lfw_people.target\n",
    "target_names = lfw_people.target_names\n",
    "n_classes = target_names.shape[0]\n",
    "\n",
    "print(\"Total dataset size:\")\n",
    "print(\"n_samples: %d\" % n_samples) # Number of Samples\n",
    "print(\"n_features: %d\" % n_features) # Number of Features\n",
    "print(\"n_classes: %d\" % n_classes) # Number of Classes\n",
    "\n",
    "# Dimensions of images\n",
    "print(\"Dimensions:\")\n",
    "print(\"Picture height: %d\" % h)\n",
    "print(\"Picture width: %d\" % w)\n",
    "\n",
    "# Names of targets\n",
    "target_names"
   ]
  },
  {
   "cell_type": "code",
   "execution_count": 4,
   "id": "3097abb3",
   "metadata": {
    "execution": {
     "iopub.execute_input": "2022-10-06T14:20:01.498960Z",
     "iopub.status.busy": "2022-10-06T14:20:01.498227Z",
     "iopub.status.idle": "2022-10-06T14:20:01.511128Z",
     "shell.execute_reply": "2022-10-06T14:20:01.510048Z"
    },
    "papermill": {
     "duration": 0.035203,
     "end_time": "2022-10-06T14:20:01.513884",
     "exception": false,
     "start_time": "2022-10-06T14:20:01.478681",
     "status": "completed"
    },
    "tags": []
   },
   "outputs": [],
   "source": [
    "# #############################################################################\n",
    "# Split into a training set and a test set using a stratified k fold\n",
    "\n",
    "# split into a training and testing set\n",
    "X_train, X_test, y_train, y_test = train_test_split(\n",
    "    X, y, test_size=0.15, random_state=42)\n",
    "\n",
    "\n",
    "# Random state is used to make the randomization constant between runs"
   ]
  },
  {
   "cell_type": "code",
   "execution_count": 5,
   "id": "998d956b",
   "metadata": {
    "execution": {
     "iopub.execute_input": "2022-10-06T14:20:01.553781Z",
     "iopub.status.busy": "2022-10-06T14:20:01.553300Z",
     "iopub.status.idle": "2022-10-06T14:20:01.558035Z",
     "shell.execute_reply": "2022-10-06T14:20:01.557107Z"
    },
    "papermill": {
     "duration": 0.027137,
     "end_time": "2022-10-06T14:20:01.560645",
     "exception": false,
     "start_time": "2022-10-06T14:20:01.533508",
     "status": "completed"
    },
    "tags": []
   },
   "outputs": [],
   "source": [
    "# Scale images to the [0, 1] range\n",
    "# X_train = X_train / 255.0\n",
    "# X_test = X_test / 255.0\n",
    "\n",
    "# Make sure images have shape (50, 37, 1), based on image dimensions \n",
    "X_train = X_train.reshape(len(X_train), 50, 37, 1)\n",
    "X_test = X_test.reshape(len(X_test), 50, 37, 1)\n"
   ]
  },
  {
   "cell_type": "code",
   "execution_count": 6,
   "id": "12888f04",
   "metadata": {
    "execution": {
     "iopub.execute_input": "2022-10-06T14:20:01.604177Z",
     "iopub.status.busy": "2022-10-06T14:20:01.603829Z",
     "iopub.status.idle": "2022-10-06T14:20:47.587356Z",
     "shell.execute_reply": "2022-10-06T14:20:47.586176Z"
    },
    "papermill": {
     "duration": 46.008054,
     "end_time": "2022-10-06T14:20:47.589954",
     "exception": false,
     "start_time": "2022-10-06T14:20:01.581900",
     "status": "completed"
    },
    "tags": []
   },
   "outputs": [
    {
     "name": "stderr",
     "output_type": "stream",
     "text": [
      "2022-10-06 14:20:03.149629: I tensorflow/core/common_runtime/process_util.cc:146] Creating new thread pool with default inter op setting: 2. Tune using inter_op_parallelism_threads for best performance.\n",
      "2022-10-06 14:20:03.405466: I tensorflow/compiler/mlir/mlir_graph_optimization_pass.cc:185] None of the MLIR Optimization Passes are enabled (registered 2)\n"
     ]
    },
    {
     "name": "stdout",
     "output_type": "stream",
     "text": [
      "Epoch 1/50\n",
      "9/9 [==============================] - 2s 94ms/step - loss: 51.9981 - accuracy: 0.2112\n",
      "Epoch 2/50\n",
      "9/9 [==============================] - 1s 91ms/step - loss: 2.0260 - accuracy: 0.2724\n",
      "Epoch 3/50\n",
      "9/9 [==============================] - 1s 100ms/step - loss: 1.7047 - accuracy: 0.3985\n",
      "Epoch 4/50\n",
      "9/9 [==============================] - 1s 97ms/step - loss: 1.4811 - accuracy: 0.4918\n",
      "Epoch 5/50\n",
      "9/9 [==============================] - 1s 91ms/step - loss: 1.2626 - accuracy: 0.5338\n",
      "Epoch 6/50\n",
      "9/9 [==============================] - 1s 91ms/step - loss: 1.1259 - accuracy: 0.5978\n",
      "Epoch 7/50\n",
      "9/9 [==============================] - 1s 91ms/step - loss: 1.0143 - accuracy: 0.6453\n",
      "Epoch 8/50\n",
      "9/9 [==============================] - 1s 90ms/step - loss: 0.9346 - accuracy: 0.6856\n",
      "Epoch 9/50\n",
      "9/9 [==============================] - 1s 92ms/step - loss: 0.8564 - accuracy: 0.7057\n",
      "Epoch 10/50\n",
      "9/9 [==============================] - 1s 90ms/step - loss: 0.8024 - accuracy: 0.7258\n",
      "Epoch 11/50\n",
      "9/9 [==============================] - 1s 93ms/step - loss: 0.7672 - accuracy: 0.7212\n",
      "Epoch 12/50\n",
      "9/9 [==============================] - 1s 97ms/step - loss: 0.7199 - accuracy: 0.7651\n",
      "Epoch 13/50\n",
      "9/9 [==============================] - 1s 92ms/step - loss: 0.6447 - accuracy: 0.7742\n",
      "Epoch 14/50\n",
      "9/9 [==============================] - 1s 92ms/step - loss: 0.5952 - accuracy: 0.7934\n",
      "Epoch 15/50\n",
      "9/9 [==============================] - 1s 92ms/step - loss: 0.5302 - accuracy: 0.8272\n",
      "Epoch 16/50\n",
      "9/9 [==============================] - 1s 94ms/step - loss: 0.5348 - accuracy: 0.8172\n",
      "Epoch 17/50\n",
      "9/9 [==============================] - 1s 91ms/step - loss: 0.6017 - accuracy: 0.7888\n",
      "Epoch 18/50\n",
      "9/9 [==============================] - 1s 93ms/step - loss: 0.4605 - accuracy: 0.8483\n",
      "Epoch 19/50\n",
      "9/9 [==============================] - 1s 90ms/step - loss: 0.4863 - accuracy: 0.8455\n",
      "Epoch 20/50\n",
      "9/9 [==============================] - 1s 92ms/step - loss: 0.3882 - accuracy: 0.8757\n",
      "Epoch 21/50\n",
      "9/9 [==============================] - 1s 92ms/step - loss: 0.3974 - accuracy: 0.8757\n",
      "Epoch 22/50\n",
      "9/9 [==============================] - 1s 92ms/step - loss: 0.3644 - accuracy: 0.8821\n",
      "Epoch 23/50\n",
      "9/9 [==============================] - 1s 92ms/step - loss: 0.2955 - accuracy: 0.8958\n",
      "Epoch 24/50\n",
      "9/9 [==============================] - 1s 93ms/step - loss: 0.3212 - accuracy: 0.8958\n",
      "Epoch 25/50\n",
      "9/9 [==============================] - 1s 94ms/step - loss: 0.3079 - accuracy: 0.8958\n",
      "Epoch 26/50\n",
      "9/9 [==============================] - 2s 176ms/step - loss: 0.2726 - accuracy: 0.9068\n",
      "Epoch 27/50\n",
      "9/9 [==============================] - 1s 94ms/step - loss: 0.3229 - accuracy: 0.9004\n",
      "Epoch 28/50\n",
      "9/9 [==============================] - 1s 92ms/step - loss: 0.2254 - accuracy: 0.9232\n",
      "Epoch 29/50\n",
      "9/9 [==============================] - 1s 92ms/step - loss: 0.2292 - accuracy: 0.9287\n",
      "Epoch 30/50\n",
      "9/9 [==============================] - 1s 92ms/step - loss: 0.2490 - accuracy: 0.9214\n",
      "Epoch 31/50\n",
      "9/9 [==============================] - 1s 91ms/step - loss: 0.2310 - accuracy: 0.9269\n",
      "Epoch 32/50\n",
      "9/9 [==============================] - 1s 104ms/step - loss: 0.2030 - accuracy: 0.9314\n",
      "Epoch 33/50\n",
      "9/9 [==============================] - 1s 92ms/step - loss: 0.2133 - accuracy: 0.9232\n",
      "Epoch 34/50\n",
      "9/9 [==============================] - 1s 96ms/step - loss: 0.1923 - accuracy: 0.9342\n",
      "Epoch 35/50\n",
      "9/9 [==============================] - 1s 91ms/step - loss: 0.1880 - accuracy: 0.9397\n",
      "Epoch 36/50\n",
      "9/9 [==============================] - 1s 92ms/step - loss: 0.1695 - accuracy: 0.9378\n",
      "Epoch 37/50\n",
      "9/9 [==============================] - 1s 92ms/step - loss: 0.1535 - accuracy: 0.9442\n",
      "Epoch 38/50\n",
      "9/9 [==============================] - 1s 102ms/step - loss: 0.1356 - accuracy: 0.9506\n",
      "Epoch 39/50\n",
      "9/9 [==============================] - 1s 92ms/step - loss: 0.1836 - accuracy: 0.9388\n",
      "Epoch 40/50\n",
      "9/9 [==============================] - 1s 90ms/step - loss: 0.1618 - accuracy: 0.9433\n",
      "Epoch 41/50\n",
      "9/9 [==============================] - 1s 92ms/step - loss: 0.1867 - accuracy: 0.9351\n",
      "Epoch 42/50\n",
      "9/9 [==============================] - 1s 90ms/step - loss: 0.1299 - accuracy: 0.9561\n",
      "Epoch 43/50\n",
      "9/9 [==============================] - 1s 91ms/step - loss: 0.1395 - accuracy: 0.9561\n",
      "Epoch 44/50\n",
      "9/9 [==============================] - 1s 92ms/step - loss: 0.1528 - accuracy: 0.9497\n",
      "Epoch 45/50\n",
      "9/9 [==============================] - 1s 92ms/step - loss: 0.1689 - accuracy: 0.9433\n",
      "Epoch 46/50\n",
      "9/9 [==============================] - 1s 92ms/step - loss: 0.1613 - accuracy: 0.9442\n",
      "Epoch 47/50\n",
      "9/9 [==============================] - 1s 90ms/step - loss: 0.1497 - accuracy: 0.9506\n",
      "Epoch 48/50\n",
      "9/9 [==============================] - 1s 91ms/step - loss: 0.1381 - accuracy: 0.9525\n",
      "Epoch 49/50\n",
      "9/9 [==============================] - 1s 90ms/step - loss: 0.1453 - accuracy: 0.9525\n",
      "Epoch 50/50\n",
      "9/9 [==============================] - 1s 91ms/step - loss: 0.1352 - accuracy: 0.9543\n",
      "7/7 - 0s - loss: 0.4548 - accuracy: 0.8866\n",
      "\n",
      " Test accuracy: 0.8865979313850403\n",
      "\n",
      " Test loss: 0.4548451602458954\n",
      "Model: \"sequential\"\n",
      "_________________________________________________________________\n",
      "Layer (type)                 Output Shape              Param #   \n",
      "=================================================================\n",
      "conv2d (Conv2D)              (None, 48, 35, 32)        320       \n",
      "_________________________________________________________________\n",
      "max_pooling2d (MaxPooling2D) (None, 24, 17, 32)        0         \n",
      "_________________________________________________________________\n",
      "conv2d_1 (Conv2D)            (None, 22, 15, 64)        18496     \n",
      "_________________________________________________________________\n",
      "max_pooling2d_1 (MaxPooling2 (None, 11, 7, 64)         0         \n",
      "_________________________________________________________________\n",
      "flatten (Flatten)            (None, 4928)              0         \n",
      "_________________________________________________________________\n",
      "dropout (Dropout)            (None, 4928)              0         \n",
      "_________________________________________________________________\n",
      "dense (Dense)                (None, 256)               1261824   \n",
      "_________________________________________________________________\n",
      "dense_1 (Dense)              (None, 7)                 1799      \n",
      "=================================================================\n",
      "Total params: 1,282,439\n",
      "Trainable params: 1,282,439\n",
      "Non-trainable params: 0\n",
      "_________________________________________________________________\n"
     ]
    }
   ],
   "source": [
    "## Build the model\n",
    "model = keras.Sequential([\n",
    "    keras.Input(shape=(50,37,1)),\n",
    "    keras.layers.Conv2D(32, kernel_size=(3,3), activation=\"relu\"),\n",
    "    keras.layers.MaxPooling2D(pool_size=(2,2)),\n",
    "    keras.layers.Conv2D(64, kernel_size=(3,3), activation=\"relu\"),\n",
    "    keras.layers.MaxPooling2D(pool_size=(2,2)),\n",
    "    keras.layers.Flatten(),\n",
    "    keras.layers.Dropout(0.5),\n",
    "    keras.layers.Dense(256, activation='relu'),\n",
    "    keras.layers.Dense(n_classes,activation= \"softmax\")\n",
    "    \n",
    "])\n",
    "\n",
    "model.compile(optimizer='adam',\n",
    "              loss=keras.losses.SparseCategoricalCrossentropy(from_logits=False),\n",
    "              metrics=['accuracy'])\n",
    "\n",
    "## Train the model\n",
    "history = model.fit(X_train, y_train, epochs=50, batch_size=128)\n",
    "\n",
    "\n",
    "## Evaluate the trained model\n",
    "test_loss, test_acc = model.evaluate(X_test,  y_test, verbose=2)\n",
    "print('\\n Test accuracy:', test_acc)\n",
    "print('\\n Test loss:', test_loss)\n",
    "\n",
    "model.summary()"
   ]
  },
  {
   "cell_type": "code",
   "execution_count": 7,
   "id": "5c817498",
   "metadata": {
    "execution": {
     "iopub.execute_input": "2022-10-06T14:20:48.009492Z",
     "iopub.status.busy": "2022-10-06T14:20:48.009191Z",
     "iopub.status.idle": "2022-10-06T14:20:48.014426Z",
     "shell.execute_reply": "2022-10-06T14:20:48.013472Z"
    },
    "papermill": {
     "duration": 0.218309,
     "end_time": "2022-10-06T14:20:48.017515",
     "exception": false,
     "start_time": "2022-10-06T14:20:47.799206",
     "status": "completed"
    },
    "tags": []
   },
   "outputs": [
    {
     "name": "stdout",
     "output_type": "stream",
     "text": [
      "dict_keys(['loss', 'accuracy'])\n"
     ]
    }
   ],
   "source": [
    "# list all data in history\n",
    "print(history.history.keys())"
   ]
  },
  {
   "cell_type": "code",
   "execution_count": 8,
   "id": "055f76f4",
   "metadata": {
    "execution": {
     "iopub.execute_input": "2022-10-06T14:20:48.440570Z",
     "iopub.status.busy": "2022-10-06T14:20:48.439917Z",
     "iopub.status.idle": "2022-10-06T14:20:48.855629Z",
     "shell.execute_reply": "2022-10-06T14:20:48.854642Z"
    },
    "papermill": {
     "duration": 0.628217,
     "end_time": "2022-10-06T14:20:48.858144",
     "exception": false,
     "start_time": "2022-10-06T14:20:48.229927",
     "status": "completed"
    },
    "tags": []
   },
   "outputs": [
    {
     "data": {
      "image/png": "[encoded data removed]",
      "text/plain": [
       "<Figure size 720x720 with 1 Axes>"
      ]
     },
     "metadata": {
      "needs_background": "light"
     },
     "output_type": "display_data"
    }
   ],
   "source": [
    "# Plotting Test and Training Accuracy\n",
    "acc_train = history.history['accuracy']\n",
    "epochs = range(1,51)\n",
    "plt.subplots(figsize = (10,10))\n",
    "plt.plot(epochs, acc_train, 'g', label='Training accuracy')\n",
    "# Add a horizontal line (Test Accuracy)\n",
    "plt.axhline(test_acc, linestyle = \"--\", label='Test accuracy')\n",
    "plt.title('Training accuracy CNN')\n",
    "plt.xlabel('Epochs')\n",
    "plt.ylabel('Accuracy')\n",
    "plt.legend()\n",
    "plt.savefig(\"plot_acc3.png\")\n",
    "plt.show()\n"
   ]
  },
  {
   "cell_type": "code",
   "execution_count": 9,
   "id": "f8b41f9d",
   "metadata": {
    "execution": {
     "iopub.execute_input": "2022-10-06T14:20:49.283902Z",
     "iopub.status.busy": "2022-10-06T14:20:49.283235Z",
     "iopub.status.idle": "2022-10-06T14:20:49.641495Z",
     "shell.execute_reply": "2022-10-06T14:20:49.640018Z"
    },
    "papermill": {
     "duration": 0.573616,
     "end_time": "2022-10-06T14:20:49.644039",
     "exception": false,
     "start_time": "2022-10-06T14:20:49.070423",
     "status": "completed"
    },
    "tags": []
   },
   "outputs": [
    {
     "data": {
      "image/png": "[encoded data removed]",
      "text/plain": [
       "<Figure size 720x720 with 1 Axes>"
      ]
     },
     "metadata": {
      "needs_background": "light"
     },
     "output_type": "display_data"
    }
   ],
   "source": [
    "# Plotting Test and Training loss\n",
    "loss_train = history.history['loss']\n",
    "epochs = range(1,51)\n",
    "plt.subplots(figsize = (10,10))\n",
    "plt.plot(epochs, loss_train, 'g', label='Training loss')\n",
    "# Add a horizontal line (Test Accuracy)\n",
    "plt.axhline(test_loss, linestyle = \"--\", label='Test loss')\n",
    "plt.title('Training Loss CNN')\n",
    "plt.xlabel('Epochs')\n",
    "plt.ylabel('Loss')\n",
    "plt.legend()\n",
    "plt.savefig(\"plot_loss3.png\")\n",
    "plt.show()"
   ]
  },
  {
   "cell_type": "code",
   "execution_count": 10,
   "id": "0403e372",
   "metadata": {
    "execution": {
     "iopub.execute_input": "2022-10-06T14:20:50.069277Z",
     "iopub.status.busy": "2022-10-06T14:20:50.068949Z",
     "iopub.status.idle": "2022-10-06T14:20:50.278188Z",
     "shell.execute_reply": "2022-10-06T14:20:50.276555Z"
    },
    "papermill": {
     "duration": 0.427705,
     "end_time": "2022-10-06T14:20:50.281980",
     "exception": false,
     "start_time": "2022-10-06T14:20:49.854275",
     "status": "completed"
    },
    "tags": []
   },
   "outputs": [
    {
     "name": "stdout",
     "output_type": "stream",
     "text": [
      "Predicting people's names on the test set\n",
      "done in 0.202s\n"
     ]
    }
   ],
   "source": [
    "# #############################################################################\n",
    "# Quantitative evaluation of the model quality on the test set\n",
    "\n",
    "print(\"Predicting people's names on the test set\")\n",
    "t0 = time()\n",
    "y_pred = model.predict(X_test)\n",
    "print(\"done in %0.3fs\" % (time() - t0))\n",
    "\n"
   ]
  },
  {
   "cell_type": "code",
   "execution_count": 11,
   "id": "885369ac",
   "metadata": {
    "execution": {
     "iopub.execute_input": "2022-10-06T14:20:50.709058Z",
     "iopub.status.busy": "2022-10-06T14:20:50.708776Z",
     "iopub.status.idle": "2022-10-06T14:20:50.715804Z",
     "shell.execute_reply": "2022-10-06T14:20:50.714592Z"
    },
    "papermill": {
     "duration": 0.224486,
     "end_time": "2022-10-06T14:20:50.717991",
     "exception": false,
     "start_time": "2022-10-06T14:20:50.493505",
     "status": "completed"
    },
    "tags": []
   },
   "outputs": [
    {
     "data": {
      "text/plain": [
       "array([3, 3, 6, 3, 3, 3, 4, 1, 3, 3, 3, 3, 3, 5, 3, 3, 1, 3, 3, 4, 1, 6,\n",
       "       3, 5, 0, 1, 0, 3, 3, 3, 2, 3, 3, 3, 3, 3, 3, 1, 3, 1, 3, 1, 3, 1,\n",
       "       1, 1, 4, 3, 3, 3, 3, 3, 0, 3, 6, 2, 1, 5, 5, 3, 1, 1, 1, 4, 3, 5,\n",
       "       4, 4, 1, 3, 1, 6, 3, 3, 3, 2, 1, 6, 3, 1, 3, 0, 4, 3, 3, 1, 3, 3,\n",
       "       3, 3, 3, 6, 3, 4, 1, 5, 1, 1, 6, 6, 3, 1, 3, 1, 3, 6, 3, 3, 3, 1,\n",
       "       4, 1, 3, 4, 3, 1, 3, 4, 1, 3, 1, 3, 3, 0, 3, 4, 4, 3, 1, 3, 6, 6,\n",
       "       6, 5, 3, 4, 3, 3, 1, 6, 2, 2, 5, 1, 3, 5, 1, 3, 6, 1, 5, 1, 1, 3,\n",
       "       3, 3, 6, 3, 1, 3, 6, 5, 5, 1, 3, 1, 5, 1, 0, 3, 1, 1, 4, 1, 5, 6,\n",
       "       3, 2, 2, 3, 3, 3, 3, 2, 3, 3, 3, 3, 3, 2, 3, 2, 3, 2])"
      ]
     },
     "execution_count": 11,
     "metadata": {},
     "output_type": "execute_result"
    }
   ],
   "source": [
    "# Transforming y_pred\n",
    "y_pred_labels = np.argmax(y_pred, axis=1)\n",
    "y_pred_labels"
   ]
  },
  {
   "cell_type": "code",
   "execution_count": 12,
   "id": "92797a1f",
   "metadata": {
    "execution": {
     "iopub.execute_input": "2022-10-06T14:20:51.156577Z",
     "iopub.status.busy": "2022-10-06T14:20:51.156219Z",
     "iopub.status.idle": "2022-10-06T14:20:51.162502Z",
     "shell.execute_reply": "2022-10-06T14:20:51.161899Z"
    },
    "papermill": {
     "duration": 0.224776,
     "end_time": "2022-10-06T14:20:51.164459",
     "exception": false,
     "start_time": "2022-10-06T14:20:50.939683",
     "status": "completed"
    },
    "tags": []
   },
   "outputs": [
    {
     "data": {
      "text/plain": [
       "array([3, 3, 6, 3, 3, 3, 4, 1, 3, 3, 3, 3, 3, 6, 3, 3, 3, 3, 3, 4, 1, 2,\n",
       "       3, 2, 0, 1, 2, 3, 3, 3, 2, 3, 3, 3, 3, 3, 3, 3, 3, 1, 3, 1, 3, 1,\n",
       "       1, 1, 4, 3, 2, 3, 3, 3, 0, 3, 6, 2, 1, 3, 5, 3, 1, 1, 1, 4, 3, 5,\n",
       "       6, 4, 1, 3, 5, 6, 3, 3, 3, 2, 1, 6, 4, 4, 3, 0, 4, 3, 3, 3, 3, 3,\n",
       "       3, 3, 3, 6, 3, 4, 1, 5, 1, 1, 6, 6, 3, 1, 3, 1, 3, 3, 3, 3, 3, 1,\n",
       "       4, 1, 3, 3, 3, 1, 3, 4, 1, 3, 1, 3, 3, 0, 3, 4, 4, 3, 1, 1, 6, 6,\n",
       "       6, 6, 2, 4, 3, 3, 1, 6, 2, 2, 5, 1, 3, 5, 1, 3, 6, 1, 5, 1, 1, 3,\n",
       "       3, 3, 6, 0, 1, 3, 6, 5, 5, 1, 3, 5, 5, 1, 0, 3, 1, 1, 6, 1, 5, 6,\n",
       "       3, 2, 2, 4, 3, 3, 3, 2, 3, 3, 3, 3, 3, 2, 3, 2, 3, 2])"
      ]
     },
     "execution_count": 12,
     "metadata": {},
     "output_type": "execute_result"
    }
   ],
   "source": [
    "y_test"
   ]
  },
  {
   "cell_type": "code",
   "execution_count": 13,
   "id": "292de789",
   "metadata": {
    "execution": {
     "iopub.execute_input": "2022-10-06T14:20:51.599738Z",
     "iopub.status.busy": "2022-10-06T14:20:51.599167Z",
     "iopub.status.idle": "2022-10-06T14:20:51.614408Z",
     "shell.execute_reply": "2022-10-06T14:20:51.613274Z"
    },
    "papermill": {
     "duration": 0.23881,
     "end_time": "2022-10-06T14:20:51.616783",
     "exception": false,
     "start_time": "2022-10-06T14:20:51.377973",
     "status": "completed"
    },
    "tags": []
   },
   "outputs": [
    {
     "name": "stdout",
     "output_type": "stream",
     "text": [
      "                   precision    recall  f1-score   support\n",
      "\n",
      "     Ariel Sharon       0.83      0.83      0.83         6\n",
      "     Colin Powell       0.86      0.97      0.91        38\n",
      "  Donald Rumsfeld       1.00      0.69      0.81        16\n",
      "    George W Bush       0.93      0.93      0.93        88\n",
      "Gerhard Schroeder       0.80      0.80      0.80        15\n",
      "      Hugo Chavez       0.71      0.83      0.77        12\n",
      "       Tony Blair       0.88      0.79      0.83        19\n",
      "\n",
      "         accuracy                           0.89       194\n",
      "        macro avg       0.86      0.84      0.84       194\n",
      "     weighted avg       0.89      0.89      0.89       194\n",
      "\n"
     ]
    }
   ],
   "source": [
    "#Classification Report\n",
    "\n",
    "class_report = metrics.classification_report(y_test, y_pred_labels, target_names=target_names,zero_division=1,  output_dict=False)\n",
    "print(class_report)    \n",
    "class_report1 = classification_report(y_test, y_pred_labels, target_names=target_names,zero_division=1, output_dict=True)"
   ]
  },
  {
   "cell_type": "code",
   "execution_count": 14,
   "id": "8c6e4bc8",
   "metadata": {
    "execution": {
     "iopub.execute_input": "2022-10-06T14:20:52.051686Z",
     "iopub.status.busy": "2022-10-06T14:20:52.051118Z",
     "iopub.status.idle": "2022-10-06T14:20:52.057843Z",
     "shell.execute_reply": "2022-10-06T14:20:52.056876Z"
    },
    "papermill": {
     "duration": 0.226485,
     "end_time": "2022-10-06T14:20:52.060353",
     "exception": false,
     "start_time": "2022-10-06T14:20:51.833868",
     "status": "completed"
    },
    "tags": []
   },
   "outputs": [
    {
     "name": "stdout",
     "output_type": "stream",
     "text": [
      "[[ 5  0  0  1  0  0  0]\n",
      " [ 0 37  0  1  0  0  0]\n",
      " [ 1  0 11  2  0  1  1]\n",
      " [ 0  3  0 82  1  1  1]\n",
      " [ 0  1  0  2 12  0  0]\n",
      " [ 0  2  0  0  0 10  0]\n",
      " [ 0  0  0  0  2  2 15]]\n"
     ]
    }
   ],
   "source": [
    "#Confusion Matrix\n",
    "conf_matrix = metrics.confusion_matrix(y_test, y_pred_labels, labels=range(n_classes))\n",
    "print(conf_matrix)   \n"
   ]
  },
  {
   "cell_type": "code",
   "execution_count": 15,
   "id": "6adebc19",
   "metadata": {
    "execution": {
     "iopub.execute_input": "2022-10-06T14:20:52.489553Z",
     "iopub.status.busy": "2022-10-06T14:20:52.489242Z",
     "iopub.status.idle": "2022-10-06T14:20:53.741910Z",
     "shell.execute_reply": "2022-10-06T14:20:53.740988Z"
    },
    "papermill": {
     "duration": 1.471011,
     "end_time": "2022-10-06T14:20:53.744144",
     "exception": false,
     "start_time": "2022-10-06T14:20:52.273133",
     "status": "completed"
    },
    "tags": []
   },
   "outputs": [
    {
     "data": {
      "image/png": "[encoded data removed]",
      "text/plain": [
       "<Figure size 1080x864 with 2 Axes>"
      ]
     },
     "metadata": {
      "needs_background": "light"
     },
     "output_type": "display_data"
    }
   ],
   "source": [
    "import seaborn as sns\n",
    "fig, ax = plt.subplots(figsize=(15,12)) \n",
    "sns.heatmap(conf_matrix, annot=True, xticklabels= (target_names), yticklabels= (target_names));\n",
    "# Export plot\n",
    "plt.savefig('conf_matrix3.jpg')"
   ]
  },
  {
   "cell_type": "code",
   "execution_count": 16,
   "id": "37322a64",
   "metadata": {
    "execution": {
     "iopub.execute_input": "2022-10-06T14:20:54.183314Z",
     "iopub.status.busy": "2022-10-06T14:20:54.182121Z",
     "iopub.status.idle": "2022-10-06T14:20:54.773684Z",
     "shell.execute_reply": "2022-10-06T14:20:54.772755Z"
    },
    "papermill": {
     "duration": 0.811938,
     "end_time": "2022-10-06T14:20:54.777014",
     "exception": false,
     "start_time": "2022-10-06T14:20:53.965076",
     "status": "completed"
    },
    "tags": []
   },
   "outputs": [
    {
     "data": {
      "image/png": "[encoded data removed]",
      "text/plain": [
       "<Figure size 1080x720 with 2 Axes>"
      ]
     },
     "metadata": {
      "needs_background": "light"
     },
     "output_type": "display_data"
    }
   ],
   "source": [
    "import pandas as pd\n",
    "fig, ax = plt.subplots(figsize=(15,10)) \n",
    "plt.rcParams['font.size'] = '20'\n",
    "sns.heatmap(pd.DataFrame(class_report1).iloc[:-1, :].T, annot=True,)\n",
    "plt.savefig('class_report3.jpg')"
   ]
  },
  {
   "cell_type": "code",
   "execution_count": 17,
   "id": "1136000d",
   "metadata": {
    "execution": {
     "iopub.execute_input": "2022-10-06T14:20:55.218306Z",
     "iopub.status.busy": "2022-10-06T14:20:55.217058Z",
     "iopub.status.idle": "2022-10-06T14:20:55.355530Z",
     "shell.execute_reply": "2022-10-06T14:20:55.354616Z"
    },
    "papermill": {
     "duration": 0.361926,
     "end_time": "2022-10-06T14:20:55.358225",
     "exception": false,
     "start_time": "2022-10-06T14:20:54.996299",
     "status": "completed"
    },
    "tags": []
   },
   "outputs": [
    {
     "name": "stdout",
     "output_type": "stream",
     "text": [
      "7/7 [==============================] - 0s 9ms/step - loss: 0.4548 - accuracy: 0.8866\n"
     ]
    },
    {
     "data": {
      "text/plain": [
       "[0.4548451602458954, 0.8865979313850403]"
      ]
     },
     "execution_count": 17,
     "metadata": {},
     "output_type": "execute_result"
    }
   ],
   "source": [
    "model.evaluate(X_test, y_test)"
   ]
  }
 ],
 "metadata": {
  "kernelspec": {
   "display_name": "Python 3",
   "language": "python",
   "name": "python3"
  },
  "language_info": {
   "codemirror_mode": {
    "name": "ipython",
    "version": 3
   },
   "file_extension": ".py",
   "mimetype": "text/x-python",
   "name": "python",
   "nbconvert_exporter": "python",
   "pygments_lexer": "ipython3",
   "version": "3.7.12"
  },
  "papermill": {
   "default_parameters": {},
   "duration": 108.00288,
   "end_time": "2022-10-06T14:20:59.117992",
   "environment_variables": {},
   "exception": null,
   "input_path": "__notebook__.ipynb",
   "output_path": "__notebook__.ipynb",
   "parameters": {},
   "start_time": "2022-10-06T14:19:11.115112",
   "version": "2.3.4"
  }
 },
 "nbformat": 4,
 "nbformat_minor": 5
}
