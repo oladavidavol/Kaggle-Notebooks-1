{
 "cells": [
  {
   "cell_type": "code",
   "execution_count": 1,
   "id": "8a05b761",
   "metadata": {
    "execution": {
     "iopub.execute_input": "2022-10-06T13:18:44.460441Z",
     "iopub.status.busy": "2022-10-06T13:18:44.459567Z",
     "iopub.status.idle": "2022-10-06T13:19:17.099840Z",
     "shell.execute_reply": "2022-10-06T13:19:17.099131Z"
    },
    "papermill": {
     "duration": 32.65607,
     "end_time": "2022-10-06T13:19:17.107850",
     "exception": false,
     "start_time": "2022-10-06T13:18:44.451780",
     "status": "completed"
    },
    "tags": []
   },
   "outputs": [
    {
     "name": "stdout",
     "output_type": "stream",
     "text": [
      "Automatically created module for IPython interactive environment\n",
      "Total dataset size:\n",
      "n_samples: 1288\n",
      "n_features: 1850\n",
      "n_classes: 7\n"
     ]
    },
    {
     "data": {
      "text/plain": [
       "array(['Ariel Sharon', 'Colin Powell', 'Donald Rumsfeld', 'George W Bush',\n",
       "       'Gerhard Schroeder', 'Hugo Chavez', 'Tony Blair'], dtype='<U17')"
      ]
     },
     "execution_count": 1,
     "metadata": {},
     "output_type": "execute_result"
    }
   ],
   "source": [
    "from time import time\n",
    "import logging\n",
    "import matplotlib.pyplot as plt\n",
    "import pandas as pd\n",
    "import numpy as np\n",
    "\n",
    "\n",
    "from sklearn.datasets import fetch_lfw_people\n",
    "from sklearn.cluster import KMeans\n",
    "\n",
    "\n",
    "print(__doc__)\n",
    "\n",
    "# Display progress logs on stdout\n",
    "logging.basicConfig(level=logging.INFO, format='%(asctime)s %(message)s')\n",
    "\n",
    "\n",
    "# #############################################################################\n",
    "# Download the data, if not already on disk and load it as numpy arrays\n",
    "\n",
    "lfw_people = fetch_lfw_people(min_faces_per_person=70, resize=0.4)\n",
    "\n",
    "# introspect the images arrays to find the shapes (for plotting)\n",
    "n_samples, h, w = lfw_people.images.shape\n",
    "\n",
    "# for machine learning we use the 2 data directly (as relative pixel\n",
    "# positions info is ignored by this model)\n",
    "X = lfw_people.data\n",
    "n_features = X.shape[1]\n",
    "\n",
    "# the label to predict is the id of the person\n",
    "y = lfw_people.target\n",
    "target_names = lfw_people.target_names\n",
    "n_classes = target_names.shape[0]\n",
    "\n",
    "print(\"Total dataset size:\")\n",
    "print(\"n_samples: %d\" % n_samples)\n",
    "print(\"n_features: %d\" % n_features)\n",
    "print(\"n_classes: %d\" % n_classes)\n",
    "target_names\n"
   ]
  },
  {
   "cell_type": "code",
   "execution_count": 2,
   "id": "c188e30f",
   "metadata": {
    "execution": {
     "iopub.execute_input": "2022-10-06T13:19:17.120746Z",
     "iopub.status.busy": "2022-10-06T13:19:17.119944Z",
     "iopub.status.idle": "2022-10-06T13:21:46.254368Z",
     "shell.execute_reply": "2022-10-06T13:21:46.253092Z"
    },
    "papermill": {
     "duration": 149.146391,
     "end_time": "2022-10-06T13:21:46.259844",
     "exception": false,
     "start_time": "2022-10-06T13:19:17.113453",
     "status": "completed"
    },
    "tags": []
   },
   "outputs": [
    {
     "data": {
      "image/png": "[encoded data removed]",
      "text/plain": [
       "<Figure size 432x288 with 1 Axes>"
      ]
     },
     "metadata": {
      "needs_background": "light"
     },
     "output_type": "display_data"
    }
   ],
   "source": [
    "wcss=[]\n",
    "for i in range(1,20):\n",
    "    kmeans = KMeans(i)\n",
    "    kmeans.fit(X)\n",
    "    wcss_iter = kmeans.inertia_\n",
    "    wcss.append(wcss_iter)\n",
    "\n",
    "number_clusters = range(1,20)\n",
    "plt.plot(number_clusters,wcss)\n",
    "plt.title('The Elbow title')\n",
    "plt.xlabel('Number of clusters')\n",
    "plt.ylabel('WCSS')\n",
    "plt.savefig(\"elbow.png\")\n",
    "plt.show()"
   ]
  },
  {
   "cell_type": "markdown",
   "id": "6b87cc45",
   "metadata": {
    "papermill": {
     "duration": 0.005701,
     "end_time": "2022-10-06T13:21:46.271652",
     "exception": false,
     "start_time": "2022-10-06T13:21:46.265951",
     "status": "completed"
    },
    "tags": []
   },
   "source": [
    "y_means = k"
   ]
  }
 ],
 "metadata": {
  "kernelspec": {
   "display_name": "Python 3",
   "language": "python",
   "name": "python3"
  },
  "language_info": {
   "codemirror_mode": {
    "name": "ipython",
    "version": 3
   },
   "file_extension": ".py",
   "mimetype": "text/x-python",
   "name": "python",
   "nbconvert_exporter": "python",
   "pygments_lexer": "ipython3",
   "version": "3.7.12"
  },
  "papermill": {
   "default_parameters": {},
   "duration": 193.183393,
   "end_time": "2022-10-06T13:21:47.103743",
   "environment_variables": {},
   "exception": null,
   "input_path": "__notebook__.ipynb",
   "output_path": "__notebook__.ipynb",
   "parameters": {},
   "start_time": "2022-10-06T13:18:33.920350",
   "version": "2.3.4"
  }
 },
 "nbformat": 4,
 "nbformat_minor": 5
}
