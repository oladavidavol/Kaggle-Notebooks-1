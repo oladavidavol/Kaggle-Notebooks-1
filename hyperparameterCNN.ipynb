{
 "cells": [
  {
   "cell_type": "code",
   "execution_count": 1,
   "id": "fbece4c6",
   "metadata": {
    "execution": {
     "iopub.execute_input": "2022-10-06T14:34:03.598590Z",
     "iopub.status.busy": "2022-10-06T14:34:03.598147Z",
     "iopub.status.idle": "2022-10-06T14:34:11.136575Z",
     "shell.execute_reply": "2022-10-06T14:34:11.135593Z"
    },
    "papermill": {
     "duration": 7.550814,
     "end_time": "2022-10-06T14:34:11.141641",
     "exception": false,
     "start_time": "2022-10-06T14:34:03.590827",
     "status": "completed"
    },
    "tags": []
   },
   "outputs": [
    {
     "name": "stdout",
     "output_type": "stream",
     "text": [
      "Automatically created module for IPython interactive environment\n"
     ]
    }
   ],
   "source": [
    "from time import time\n",
    "import logging\n",
    "import matplotlib.pyplot as plt\n",
    "import numpy as np\n",
    "import sklearn.metrics as metrics\n",
    "\n",
    "from sklearn.model_selection import train_test_split\n",
    "\n",
    "from sklearn.datasets import fetch_lfw_people\n",
    "from sklearn.metrics import classification_report\n",
    "from sklearn.metrics import confusion_matrix\n",
    "\n",
    "\n",
    "#  Importing Tensorflow\n",
    "import tensorflow as tf\n",
    "# Importing keras\n",
    "from tensorflow import keras\n",
    "# Importing Tuner\n",
    "import keras_tuner as kt\n",
    "\n",
    "print(__doc__)\n",
    "\n",
    "# Display progress logs on stdout\n",
    "logging.basicConfig(level=logging.INFO, format='%(asctime)s %(message)s')\n",
    "\n",
    "\n"
   ]
  },
  {
   "cell_type": "code",
   "execution_count": 2,
   "id": "0af0bd39",
   "metadata": {
    "execution": {
     "iopub.execute_input": "2022-10-06T14:34:11.151659Z",
     "iopub.status.busy": "2022-10-06T14:34:11.150970Z",
     "iopub.status.idle": "2022-10-06T14:34:57.928876Z",
     "shell.execute_reply": "2022-10-06T14:34:57.928165Z"
    },
    "papermill": {
     "duration": 46.785468,
     "end_time": "2022-10-06T14:34:57.931251",
     "exception": false,
     "start_time": "2022-10-06T14:34:11.145783",
     "status": "completed"
    },
    "tags": []
   },
   "outputs": [],
   "source": [
    "# #############################################################################\n",
    "# Download the data, if not already on disk and load it as numpy arrays\n",
    "\n",
    "lfw_people = fetch_lfw_people(min_faces_per_person=70, resize=0.4)\n",
    "\n",
    "# introspect the images arrays to find the shapes (for plotting)\n",
    "n_samples, h, w = lfw_people.images.shape"
   ]
  },
  {
   "cell_type": "code",
   "execution_count": 3,
   "id": "c902a91f",
   "metadata": {
    "execution": {
     "iopub.execute_input": "2022-10-06T14:34:57.941205Z",
     "iopub.status.busy": "2022-10-06T14:34:57.940824Z",
     "iopub.status.idle": "2022-10-06T14:34:57.952636Z",
     "shell.execute_reply": "2022-10-06T14:34:57.951085Z"
    },
    "papermill": {
     "duration": 0.020012,
     "end_time": "2022-10-06T14:34:57.955624",
     "exception": false,
     "start_time": "2022-10-06T14:34:57.935612",
     "status": "completed"
    },
    "tags": []
   },
   "outputs": [
    {
     "name": "stdout",
     "output_type": "stream",
     "text": [
      "Total dataset size:\n",
      "n_samples: 1288\n",
      "n_features: 1850\n",
      "n_classes: 7\n",
      "Dimensions:\n",
      "Picture height: 50\n",
      "Picture width: 37\n"
     ]
    },
    {
     "data": {
      "text/plain": [
       "array(['Ariel Sharon', 'Colin Powell', 'Donald Rumsfeld', 'George W Bush',\n",
       "       'Gerhard Schroeder', 'Hugo Chavez', 'Tony Blair'], dtype='<U17')"
      ]
     },
     "execution_count": 3,
     "metadata": {},
     "output_type": "execute_result"
    }
   ],
   "source": [
    "\n",
    "\n",
    "# for machine learning we use the 2 data directly (as relative pixel\n",
    "# positions info is ignored by this model)\n",
    "X = lfw_people.data\n",
    "n_features = X.shape[1]\n",
    "\n",
    "# the label to predict is the id of the person\n",
    "y = lfw_people.target\n",
    "target_names = lfw_people.target_names\n",
    "n_classes = target_names.shape[0]\n",
    "\n",
    "print(\"Total dataset size:\")\n",
    "print(\"n_samples: %d\" % n_samples) # Number of Samples\n",
    "print(\"n_features: %d\" % n_features) # Number of Features\n",
    "print(\"n_classes: %d\" % n_classes) # Number of Classes\n",
    "\n",
    "# Dimensions of images\n",
    "print(\"Dimensions:\")\n",
    "print(\"Picture height: %d\" % h)\n",
    "print(\"Picture width: %d\" % w)\n",
    "\n",
    "# Names of targets\n",
    "target_names"
   ]
  },
  {
   "cell_type": "code",
   "execution_count": 4,
   "id": "0eb46d32",
   "metadata": {
    "execution": {
     "iopub.execute_input": "2022-10-06T14:34:57.966842Z",
     "iopub.status.busy": "2022-10-06T14:34:57.966475Z",
     "iopub.status.idle": "2022-10-06T14:34:57.977685Z",
     "shell.execute_reply": "2022-10-06T14:34:57.976646Z"
    },
    "papermill": {
     "duration": 0.018763,
     "end_time": "2022-10-06T14:34:57.979797",
     "exception": false,
     "start_time": "2022-10-06T14:34:57.961034",
     "status": "completed"
    },
    "tags": []
   },
   "outputs": [],
   "source": [
    "# #############################################################################\n",
    "# Split into a training set and a test set using a stratified k fold\n",
    "\n",
    "# split into a training and testing set\n",
    "X_train, X_test, y_train, y_test = train_test_split(\n",
    "    X, y, test_size=0.15, random_state=42)\n",
    "\n",
    "\n",
    "# Random state is used to make the randomization constant between runs"
   ]
  },
  {
   "cell_type": "code",
   "execution_count": 5,
   "id": "1a6e1e7a",
   "metadata": {
    "execution": {
     "iopub.execute_input": "2022-10-06T14:34:57.989710Z",
     "iopub.status.busy": "2022-10-06T14:34:57.989327Z",
     "iopub.status.idle": "2022-10-06T14:34:57.993475Z",
     "shell.execute_reply": "2022-10-06T14:34:57.992859Z"
    },
    "papermill": {
     "duration": 0.011197,
     "end_time": "2022-10-06T14:34:57.995256",
     "exception": false,
     "start_time": "2022-10-06T14:34:57.984059",
     "status": "completed"
    },
    "tags": []
   },
   "outputs": [],
   "source": [
    "# Scale images to the [0, 1] range\n",
    "# X_train = X_train / 255.0\n",
    "# X_test = X_test / 255.0\n",
    "\n",
    "# Make sure images have shape (50, 37, 1), based on image dimensions \n",
    "X_train = X_train.reshape(len(X_train), 50, 37, 1)\n",
    "X_test = X_test.reshape(len(X_test), 50, 37, 1)\n"
   ]
  },
  {
   "cell_type": "code",
   "execution_count": 6,
   "id": "066b1e60",
   "metadata": {
    "execution": {
     "iopub.execute_input": "2022-10-06T14:34:58.004851Z",
     "iopub.status.busy": "2022-10-06T14:34:58.004324Z",
     "iopub.status.idle": "2022-10-06T14:34:58.011444Z",
     "shell.execute_reply": "2022-10-06T14:34:58.010610Z"
    },
    "papermill": {
     "duration": 0.014159,
     "end_time": "2022-10-06T14:34:58.013506",
     "exception": false,
     "start_time": "2022-10-06T14:34:57.999347",
     "status": "completed"
    },
    "tags": []
   },
   "outputs": [],
   "source": [
    "####################################################################################\n",
    "# Hyper Parameter\n",
    "\n",
    "def model_builder(hp):\n",
    "  model = keras.Sequential()\n",
    "  model.add(keras.layers.Flatten(input_shape=(50, 37, 1)))\n",
    "\n",
    "  # Tune the number of units in the first Dense layer\n",
    "  # Choose an optimal value between 32-512\n",
    "  hp_units = hp.Int('units', min_value=32, max_value=512, step=32)\n",
    "  model.add(keras.layers.Dense(units=hp_units, activation='relu'))\n",
    "  model.add(keras.layers.Dense(10))\n",
    "\n",
    "  # Tune the learning rate for the optimizer\n",
    "  # Choose an optimal value from 0.01, 0.001, or 0.0001\n",
    "  hp_learning_rate = hp.Choice('learning_rate', values=[1e-2, 1e-3, 1e-4])\n",
    "\n",
    "  model.compile(optimizer=keras.optimizers.Adam(learning_rate=hp_learning_rate),\n",
    "                loss=keras.losses.SparseCategoricalCrossentropy(from_logits=True),\n",
    "                metrics=['accuracy'])\n",
    "\n",
    "  return model"
   ]
  },
  {
   "cell_type": "code",
   "execution_count": 7,
   "id": "91c7963a",
   "metadata": {
    "execution": {
     "iopub.execute_input": "2022-10-06T14:34:58.023169Z",
     "iopub.status.busy": "2022-10-06T14:34:58.022626Z",
     "iopub.status.idle": "2022-10-06T14:34:58.141934Z",
     "shell.execute_reply": "2022-10-06T14:34:58.140935Z"
    },
    "papermill": {
     "duration": 0.126459,
     "end_time": "2022-10-06T14:34:58.144092",
     "exception": false,
     "start_time": "2022-10-06T14:34:58.017633",
     "status": "completed"
    },
    "tags": []
   },
   "outputs": [
    {
     "name": "stderr",
     "output_type": "stream",
     "text": [
      "2022-10-06 14:34:58.060849: I tensorflow/core/common_runtime/process_util.cc:146] Creating new thread pool with default inter op setting: 2. Tune using inter_op_parallelism_threads for best performance.\n"
     ]
    }
   ],
   "source": [
    "tuner = kt.Hyperband(model_builder,\n",
    "                     objective='val_accuracy',\n",
    "                     max_epochs=10,\n",
    "                     factor=3,\n",
    "                     directory='my_dir',\n",
    "                     project_name='intro_to_kt')"
   ]
  },
  {
   "cell_type": "code",
   "execution_count": 8,
   "id": "fd50bb21",
   "metadata": {
    "execution": {
     "iopub.execute_input": "2022-10-06T14:34:58.154335Z",
     "iopub.status.busy": "2022-10-06T14:34:58.153419Z",
     "iopub.status.idle": "2022-10-06T14:34:58.157870Z",
     "shell.execute_reply": "2022-10-06T14:34:58.157214Z"
    },
    "papermill": {
     "duration": 0.011323,
     "end_time": "2022-10-06T14:34:58.159646",
     "exception": false,
     "start_time": "2022-10-06T14:34:58.148323",
     "status": "completed"
    },
    "tags": []
   },
   "outputs": [],
   "source": [
    "stop_early = tf.keras.callbacks.EarlyStopping(monitor='val_loss', patience=5)"
   ]
  },
  {
   "cell_type": "code",
   "execution_count": 9,
   "id": "372433a6",
   "metadata": {
    "execution": {
     "iopub.execute_input": "2022-10-06T14:34:58.169575Z",
     "iopub.status.busy": "2022-10-06T14:34:58.168894Z",
     "iopub.status.idle": "2022-10-06T14:35:40.970830Z",
     "shell.execute_reply": "2022-10-06T14:35:40.969625Z"
    },
    "papermill": {
     "duration": 42.809669,
     "end_time": "2022-10-06T14:35:40.973430",
     "exception": false,
     "start_time": "2022-10-06T14:34:58.163761",
     "status": "completed"
    },
    "tags": []
   },
   "outputs": [
    {
     "name": "stdout",
     "output_type": "stream",
     "text": [
      "Trial 30 Complete [00h 00m 02s]\n",
      "val_accuracy: 0.6164383292198181\n",
      "\n",
      "Best val_accuracy So Far: 0.6164383292198181\n",
      "Total elapsed time: 00h 00m 42s\n",
      "\n",
      "The hyperparameter search is complete. The optimal number of units in the first densely-connected\n",
      "layer is 288 and the optimal learning rate for the optimizer\n",
      "is 0.001.\n",
      "\n"
     ]
    }
   ],
   "source": [
    "tuner.search(X_train, y_train, epochs=50, validation_split=0.2, callbacks=[stop_early])\n",
    "\n",
    "# Get the optimal hyperparameters\n",
    "best_hps=tuner.get_best_hyperparameters(num_trials=1)[0]\n",
    "\n",
    "print(f\"\"\"\n",
    "The hyperparameter search is complete. The optimal number of units in the first densely-connected\n",
    "layer is {best_hps.get('units')} and the optimal learning rate for the optimizer\n",
    "is {best_hps.get('learning_rate')}.\n",
    "\"\"\")"
   ]
  },
  {
   "cell_type": "code",
   "execution_count": 10,
   "id": "b4959460",
   "metadata": {
    "execution": {
     "iopub.execute_input": "2022-10-06T14:35:40.984273Z",
     "iopub.status.busy": "2022-10-06T14:35:40.983858Z",
     "iopub.status.idle": "2022-10-06T14:35:48.809658Z",
     "shell.execute_reply": "2022-10-06T14:35:48.808581Z"
    },
    "papermill": {
     "duration": 7.8334,
     "end_time": "2022-10-06T14:35:48.811792",
     "exception": false,
     "start_time": "2022-10-06T14:35:40.978392",
     "status": "completed"
    },
    "tags": []
   },
   "outputs": [
    {
     "name": "stdout",
     "output_type": "stream",
     "text": [
      "Epoch 1/50\n",
      "28/28 [==============================] - 1s 10ms/step - loss: 432.1040 - accuracy: 0.2457 - val_loss: 115.8629 - val_accuracy: 0.3607\n",
      "Epoch 2/50\n",
      "28/28 [==============================] - 0s 5ms/step - loss: 39.8650 - accuracy: 0.3589 - val_loss: 31.9568 - val_accuracy: 0.3470\n",
      "Epoch 3/50\n",
      "28/28 [==============================] - 0s 5ms/step - loss: 41.4019 - accuracy: 0.3497 - val_loss: 29.3963 - val_accuracy: 0.4201\n",
      "Epoch 4/50\n",
      "28/28 [==============================] - 0s 5ms/step - loss: 25.6794 - accuracy: 0.4126 - val_loss: 16.3852 - val_accuracy: 0.4429\n",
      "Epoch 5/50\n",
      "28/28 [==============================] - 0s 5ms/step - loss: 13.0639 - accuracy: 0.4903 - val_loss: 17.3434 - val_accuracy: 0.4521\n",
      "Epoch 6/50\n",
      "28/28 [==============================] - 0s 5ms/step - loss: 11.7211 - accuracy: 0.5303 - val_loss: 18.7622 - val_accuracy: 0.4566\n",
      "Epoch 7/50\n",
      "28/28 [==============================] - 0s 5ms/step - loss: 10.4648 - accuracy: 0.5406 - val_loss: 12.3500 - val_accuracy: 0.6073\n",
      "Epoch 8/50\n",
      "28/28 [==============================] - 0s 5ms/step - loss: 7.3418 - accuracy: 0.6286 - val_loss: 21.6230 - val_accuracy: 0.5251\n",
      "Epoch 9/50\n",
      "28/28 [==============================] - 0s 5ms/step - loss: 9.6526 - accuracy: 0.6171 - val_loss: 9.3847 - val_accuracy: 0.5571\n",
      "Epoch 10/50\n",
      "28/28 [==============================] - 0s 5ms/step - loss: 10.4802 - accuracy: 0.5623 - val_loss: 9.0740 - val_accuracy: 0.6530\n",
      "Epoch 11/50\n",
      "28/28 [==============================] - 0s 5ms/step - loss: 13.7184 - accuracy: 0.5314 - val_loss: 24.3600 - val_accuracy: 0.4703\n",
      "Epoch 12/50\n",
      "28/28 [==============================] - 0s 7ms/step - loss: 7.5036 - accuracy: 0.6354 - val_loss: 13.0815 - val_accuracy: 0.4247\n",
      "Epoch 13/50\n",
      "28/28 [==============================] - 0s 4ms/step - loss: 4.9391 - accuracy: 0.6857 - val_loss: 8.2445 - val_accuracy: 0.5982\n",
      "Epoch 14/50\n",
      "28/28 [==============================] - 0s 4ms/step - loss: 6.6579 - accuracy: 0.6366 - val_loss: 10.1364 - val_accuracy: 0.5890\n",
      "Epoch 15/50\n",
      "28/28 [==============================] - 0s 4ms/step - loss: 11.4494 - accuracy: 0.5806 - val_loss: 12.3505 - val_accuracy: 0.4612\n",
      "Epoch 16/50\n",
      "28/28 [==============================] - 0s 4ms/step - loss: 6.8821 - accuracy: 0.6640 - val_loss: 14.2872 - val_accuracy: 0.4886\n",
      "Epoch 17/50\n",
      "28/28 [==============================] - 0s 4ms/step - loss: 6.9270 - accuracy: 0.6354 - val_loss: 14.2426 - val_accuracy: 0.5662\n",
      "Epoch 18/50\n",
      "28/28 [==============================] - 0s 4ms/step - loss: 6.7949 - accuracy: 0.6674 - val_loss: 14.8706 - val_accuracy: 0.4110\n",
      "Epoch 19/50\n",
      "28/28 [==============================] - 0s 4ms/step - loss: 11.2740 - accuracy: 0.5463 - val_loss: 19.1633 - val_accuracy: 0.4201\n",
      "Epoch 20/50\n",
      "28/28 [==============================] - 0s 5ms/step - loss: 7.5583 - accuracy: 0.6377 - val_loss: 10.9430 - val_accuracy: 0.5845\n",
      "Epoch 21/50\n",
      "28/28 [==============================] - 0s 5ms/step - loss: 3.6602 - accuracy: 0.7440 - val_loss: 13.2234 - val_accuracy: 0.5571\n",
      "Epoch 22/50\n",
      "28/28 [==============================] - 0s 5ms/step - loss: 5.2964 - accuracy: 0.6869 - val_loss: 9.0502 - val_accuracy: 0.5571\n",
      "Epoch 23/50\n",
      "28/28 [==============================] - 0s 5ms/step - loss: 2.6426 - accuracy: 0.7966 - val_loss: 5.6000 - val_accuracy: 0.5845\n",
      "Epoch 24/50\n",
      "28/28 [==============================] - 0s 5ms/step - loss: 2.6253 - accuracy: 0.7737 - val_loss: 6.1961 - val_accuracy: 0.6210\n",
      "Epoch 25/50\n",
      "28/28 [==============================] - 0s 5ms/step - loss: 4.0518 - accuracy: 0.7131 - val_loss: 6.7503 - val_accuracy: 0.5616\n",
      "Epoch 26/50\n",
      "28/28 [==============================] - 0s 5ms/step - loss: 2.4594 - accuracy: 0.8011 - val_loss: 4.1077 - val_accuracy: 0.7215\n",
      "Epoch 27/50\n",
      "28/28 [==============================] - 0s 5ms/step - loss: 2.8429 - accuracy: 0.7577 - val_loss: 6.0369 - val_accuracy: 0.6941\n",
      "Epoch 28/50\n",
      "28/28 [==============================] - 0s 4ms/step - loss: 4.4553 - accuracy: 0.7131 - val_loss: 14.7476 - val_accuracy: 0.3790\n",
      "Epoch 29/50\n",
      "28/28 [==============================] - 0s 4ms/step - loss: 5.5716 - accuracy: 0.6686 - val_loss: 4.0230 - val_accuracy: 0.6301\n",
      "Epoch 30/50\n",
      "28/28 [==============================] - 0s 5ms/step - loss: 3.3944 - accuracy: 0.7006 - val_loss: 11.8511 - val_accuracy: 0.3562\n",
      "Epoch 31/50\n",
      "28/28 [==============================] - 0s 5ms/step - loss: 4.1968 - accuracy: 0.6480 - val_loss: 4.1941 - val_accuracy: 0.6575\n",
      "Epoch 32/50\n",
      "28/28 [==============================] - 0s 5ms/step - loss: 2.7164 - accuracy: 0.6766 - val_loss: 3.9430 - val_accuracy: 0.5616\n",
      "Epoch 33/50\n",
      "28/28 [==============================] - 0s 13ms/step - loss: 1.8909 - accuracy: 0.7406 - val_loss: 5.5634 - val_accuracy: 0.4703\n",
      "Epoch 34/50\n",
      "28/28 [==============================] - 0s 13ms/step - loss: 2.3375 - accuracy: 0.7109 - val_loss: 9.1565 - val_accuracy: 0.5708\n",
      "Epoch 35/50\n",
      "28/28 [==============================] - 0s 11ms/step - loss: 3.0531 - accuracy: 0.6857 - val_loss: 2.6297 - val_accuracy: 0.6393\n",
      "Epoch 36/50\n",
      "28/28 [==============================] - 0s 5ms/step - loss: 1.0612 - accuracy: 0.8011 - val_loss: 2.1250 - val_accuracy: 0.7443\n",
      "Epoch 37/50\n",
      "28/28 [==============================] - 0s 5ms/step - loss: 1.3157 - accuracy: 0.7280 - val_loss: 4.3486 - val_accuracy: 0.5708\n",
      "Epoch 38/50\n",
      "28/28 [==============================] - 0s 4ms/step - loss: 1.5389 - accuracy: 0.7371 - val_loss: 1.9491 - val_accuracy: 0.7215\n",
      "Epoch 39/50\n",
      "28/28 [==============================] - 0s 4ms/step - loss: 0.8904 - accuracy: 0.8023 - val_loss: 1.9242 - val_accuracy: 0.7078\n",
      "Epoch 40/50\n",
      "28/28 [==============================] - 0s 4ms/step - loss: 0.9194 - accuracy: 0.7897 - val_loss: 2.7949 - val_accuracy: 0.6164\n",
      "Epoch 41/50\n",
      "28/28 [==============================] - 0s 5ms/step - loss: 0.9520 - accuracy: 0.8046 - val_loss: 4.6631 - val_accuracy: 0.4429\n",
      "Epoch 42/50\n",
      "28/28 [==============================] - 0s 5ms/step - loss: 1.3009 - accuracy: 0.7474 - val_loss: 1.9686 - val_accuracy: 0.6530\n",
      "Epoch 43/50\n",
      "28/28 [==============================] - 0s 5ms/step - loss: 0.9082 - accuracy: 0.7989 - val_loss: 4.4049 - val_accuracy: 0.4612\n",
      "Epoch 44/50\n",
      "28/28 [==============================] - 0s 5ms/step - loss: 1.4582 - accuracy: 0.6971 - val_loss: 3.2952 - val_accuracy: 0.4932\n",
      "Epoch 45/50\n",
      "28/28 [==============================] - 0s 5ms/step - loss: 1.5724 - accuracy: 0.6960 - val_loss: 1.7096 - val_accuracy: 0.6849\n",
      "Epoch 46/50\n",
      "28/28 [==============================] - 0s 5ms/step - loss: 1.5881 - accuracy: 0.7017 - val_loss: 3.0245 - val_accuracy: 0.5434\n",
      "Epoch 47/50\n",
      "28/28 [==============================] - 0s 4ms/step - loss: 1.8100 - accuracy: 0.6697 - val_loss: 2.4221 - val_accuracy: 0.5616\n",
      "Epoch 48/50\n",
      "28/28 [==============================] - 0s 5ms/step - loss: 1.1315 - accuracy: 0.7451 - val_loss: 1.8277 - val_accuracy: 0.7032\n",
      "Epoch 49/50\n",
      "28/28 [==============================] - 0s 5ms/step - loss: 0.7794 - accuracy: 0.8240 - val_loss: 1.7409 - val_accuracy: 0.6758\n",
      "Epoch 50/50\n",
      "28/28 [==============================] - 0s 5ms/step - loss: 0.7401 - accuracy: 0.8103 - val_loss: 1.6338 - val_accuracy: 0.7397\n",
      "Best epoch: 36\n"
     ]
    }
   ],
   "source": [
    "# Build the model with the optimal hyperparameters and train it on the data for 50 epochs\n",
    "model = tuner.hypermodel.build(best_hps)\n",
    "history = model.fit(X_train, y_train, epochs=50, validation_split=0.2)\n",
    "\n",
    "val_acc_per_epoch = history.history['val_accuracy']\n",
    "best_epoch = val_acc_per_epoch.index(max(val_acc_per_epoch)) + 1\n",
    "print('Best epoch: %d' % (best_epoch,))"
   ]
  },
  {
   "cell_type": "code",
   "execution_count": 11,
   "id": "9c8a717f",
   "metadata": {
    "execution": {
     "iopub.execute_input": "2022-10-06T14:35:48.843826Z",
     "iopub.status.busy": "2022-10-06T14:35:48.842616Z",
     "iopub.status.idle": "2022-10-06T14:35:54.347405Z",
     "shell.execute_reply": "2022-10-06T14:35:54.346298Z"
    },
    "papermill": {
     "duration": 5.5228,
     "end_time": "2022-10-06T14:35:54.349533",
     "exception": false,
     "start_time": "2022-10-06T14:35:48.826733",
     "status": "completed"
    },
    "tags": []
   },
   "outputs": [
    {
     "name": "stdout",
     "output_type": "stream",
     "text": [
      "Epoch 1/36\n",
      "28/28 [==============================] - 1s 10ms/step - loss: 372.1999 - accuracy: 0.2583 - val_loss: 105.2199 - val_accuracy: 0.0502\n",
      "Epoch 2/36\n",
      "28/28 [==============================] - 0s 5ms/step - loss: 89.9509 - accuracy: 0.3429 - val_loss: 31.1878 - val_accuracy: 0.4521\n",
      "Epoch 3/36\n",
      "28/28 [==============================] - 0s 5ms/step - loss: 27.1392 - accuracy: 0.4880 - val_loss: 31.7199 - val_accuracy: 0.3014\n",
      "Epoch 4/36\n",
      "28/28 [==============================] - 0s 5ms/step - loss: 22.8641 - accuracy: 0.5086 - val_loss: 33.9327 - val_accuracy: 0.5799\n",
      "Epoch 5/36\n",
      "28/28 [==============================] - 0s 5ms/step - loss: 27.1925 - accuracy: 0.5029 - val_loss: 29.9053 - val_accuracy: 0.4521\n",
      "Epoch 6/36\n",
      "28/28 [==============================] - 0s 5ms/step - loss: 31.2019 - accuracy: 0.4971 - val_loss: 52.3817 - val_accuracy: 0.4612\n",
      "Epoch 7/36\n",
      "28/28 [==============================] - 0s 5ms/step - loss: 27.4588 - accuracy: 0.5280 - val_loss: 23.1168 - val_accuracy: 0.5662\n",
      "Epoch 8/36\n",
      "28/28 [==============================] - 0s 5ms/step - loss: 18.8390 - accuracy: 0.5989 - val_loss: 16.7645 - val_accuracy: 0.6301\n",
      "Epoch 9/36\n",
      "28/28 [==============================] - 0s 5ms/step - loss: 17.3309 - accuracy: 0.6114 - val_loss: 44.3206 - val_accuracy: 0.4749\n",
      "Epoch 10/36\n",
      "28/28 [==============================] - 0s 5ms/step - loss: 39.0684 - accuracy: 0.5051 - val_loss: 29.3511 - val_accuracy: 0.4247\n",
      "Epoch 11/36\n",
      "28/28 [==============================] - 0s 5ms/step - loss: 15.4873 - accuracy: 0.6320 - val_loss: 16.2890 - val_accuracy: 0.6347\n",
      "Epoch 12/36\n",
      "28/28 [==============================] - 0s 5ms/step - loss: 15.5878 - accuracy: 0.6571 - val_loss: 17.7731 - val_accuracy: 0.6484\n",
      "Epoch 13/36\n",
      "28/28 [==============================] - 0s 5ms/step - loss: 9.6558 - accuracy: 0.7086 - val_loss: 17.6340 - val_accuracy: 0.6393\n",
      "Epoch 14/36\n",
      "28/28 [==============================] - 0s 5ms/step - loss: 5.8192 - accuracy: 0.7817 - val_loss: 9.1959 - val_accuracy: 0.6849\n",
      "Epoch 15/36\n",
      "28/28 [==============================] - 0s 5ms/step - loss: 9.0718 - accuracy: 0.6971 - val_loss: 23.6501 - val_accuracy: 0.5662\n",
      "Epoch 16/36\n",
      "28/28 [==============================] - 0s 5ms/step - loss: 9.9729 - accuracy: 0.6709 - val_loss: 31.2836 - val_accuracy: 0.5708\n",
      "Epoch 17/36\n",
      "28/28 [==============================] - 0s 5ms/step - loss: 11.8454 - accuracy: 0.6777 - val_loss: 23.6490 - val_accuracy: 0.5068\n",
      "Epoch 18/36\n",
      "28/28 [==============================] - 0s 5ms/step - loss: 10.1979 - accuracy: 0.6811 - val_loss: 6.6978 - val_accuracy: 0.7169\n",
      "Epoch 19/36\n",
      "28/28 [==============================] - 0s 5ms/step - loss: 5.8518 - accuracy: 0.7840 - val_loss: 11.4734 - val_accuracy: 0.6712\n",
      "Epoch 20/36\n",
      "28/28 [==============================] - 0s 5ms/step - loss: 8.7825 - accuracy: 0.7086 - val_loss: 9.2511 - val_accuracy: 0.7215\n",
      "Epoch 21/36\n",
      "28/28 [==============================] - 0s 5ms/step - loss: 11.3477 - accuracy: 0.6457 - val_loss: 13.5825 - val_accuracy: 0.6895\n",
      "Epoch 22/36\n",
      "28/28 [==============================] - 0s 5ms/step - loss: 16.0529 - accuracy: 0.6640 - val_loss: 22.3920 - val_accuracy: 0.5753\n",
      "Epoch 23/36\n",
      "28/28 [==============================] - 0s 4ms/step - loss: 11.1810 - accuracy: 0.6937 - val_loss: 9.9189 - val_accuracy: 0.6849\n",
      "Epoch 24/36\n",
      "28/28 [==============================] - 0s 5ms/step - loss: 6.7138 - accuracy: 0.7600 - val_loss: 11.9221 - val_accuracy: 0.6438\n",
      "Epoch 25/36\n",
      "28/28 [==============================] - 0s 5ms/step - loss: 4.4611 - accuracy: 0.7954 - val_loss: 17.8619 - val_accuracy: 0.5890\n",
      "Epoch 26/36\n",
      "28/28 [==============================] - 0s 5ms/step - loss: 9.2850 - accuracy: 0.7040 - val_loss: 11.2217 - val_accuracy: 0.6393\n",
      "Epoch 27/36\n",
      "28/28 [==============================] - 0s 5ms/step - loss: 8.2159 - accuracy: 0.7291 - val_loss: 8.8861 - val_accuracy: 0.6621\n",
      "Epoch 28/36\n",
      "28/28 [==============================] - 0s 4ms/step - loss: 3.8789 - accuracy: 0.8069 - val_loss: 10.8511 - val_accuracy: 0.6530\n",
      "Epoch 29/36\n",
      "28/28 [==============================] - 0s 5ms/step - loss: 9.4584 - accuracy: 0.7177 - val_loss: 16.8398 - val_accuracy: 0.5342\n",
      "Epoch 30/36\n",
      "28/28 [==============================] - 0s 4ms/step - loss: 6.7433 - accuracy: 0.7166 - val_loss: 14.4226 - val_accuracy: 0.4840\n",
      "Epoch 31/36\n",
      "28/28 [==============================] - 0s 5ms/step - loss: 11.5617 - accuracy: 0.6206 - val_loss: 12.4546 - val_accuracy: 0.6712\n",
      "Epoch 32/36\n",
      "28/28 [==============================] - 0s 5ms/step - loss: 4.5507 - accuracy: 0.7897 - val_loss: 14.0201 - val_accuracy: 0.6347\n",
      "Epoch 33/36\n",
      "28/28 [==============================] - 0s 5ms/step - loss: 8.0092 - accuracy: 0.7006 - val_loss: 23.4335 - val_accuracy: 0.4521\n",
      "Epoch 34/36\n",
      "28/28 [==============================] - 0s 5ms/step - loss: 7.2577 - accuracy: 0.7406 - val_loss: 11.1177 - val_accuracy: 0.6895\n",
      "Epoch 35/36\n",
      "28/28 [==============================] - 0s 7ms/step - loss: 3.6845 - accuracy: 0.7966 - val_loss: 5.1831 - val_accuracy: 0.7626\n",
      "Epoch 36/36\n",
      "28/28 [==============================] - 0s 5ms/step - loss: 2.8029 - accuracy: 0.8377 - val_loss: 6.9843 - val_accuracy: 0.7306\n"
     ]
    },
    {
     "data": {
      "text/plain": [
       "<keras.callbacks.History at 0x7f89af6b2650>"
      ]
     },
     "execution_count": 11,
     "metadata": {},
     "output_type": "execute_result"
    }
   ],
   "source": [
    "hypermodel = tuner.hypermodel.build(best_hps)\n",
    "\n",
    "# Retrain the model\n",
    "hypermodel.fit(X_train, y_train, epochs=best_epoch, validation_split=0.2)"
   ]
  },
  {
   "cell_type": "code",
   "execution_count": 12,
   "id": "571eef81",
   "metadata": {
    "execution": {
     "iopub.execute_input": "2022-10-06T14:35:54.395284Z",
     "iopub.status.busy": "2022-10-06T14:35:54.394830Z",
     "iopub.status.idle": "2022-10-06T14:35:54.475655Z",
     "shell.execute_reply": "2022-10-06T14:35:54.474042Z"
    },
    "papermill": {
     "duration": 0.106593,
     "end_time": "2022-10-06T14:35:54.478133",
     "exception": false,
     "start_time": "2022-10-06T14:35:54.371540",
     "status": "completed"
    },
    "tags": []
   },
   "outputs": [
    {
     "name": "stdout",
     "output_type": "stream",
     "text": [
      "7/7 [==============================] - 0s 2ms/step - loss: 5.2904 - accuracy: 0.7474\n",
      "[test loss, test accuracy]: [5.2904205322265625, 0.7474226951599121]\n"
     ]
    }
   ],
   "source": [
    "eval_result = hypermodel.evaluate(X_test, y_test)\n",
    "print(\"[test loss, test accuracy]:\", eval_result)"
   ]
  },
  {
   "cell_type": "code",
   "execution_count": 13,
   "id": "c8d7c591",
   "metadata": {
    "execution": {
     "iopub.execute_input": "2022-10-06T14:35:54.523305Z",
     "iopub.status.busy": "2022-10-06T14:35:54.522377Z",
     "iopub.status.idle": "2022-10-06T14:35:54.527096Z",
     "shell.execute_reply": "2022-10-06T14:35:54.526062Z"
    },
    "papermill": {
     "duration": 0.029317,
     "end_time": "2022-10-06T14:35:54.528973",
     "exception": false,
     "start_time": "2022-10-06T14:35:54.499656",
     "status": "completed"
    },
    "tags": []
   },
   "outputs": [],
   "source": [
    "# Code collected and adapted from https://www.tensorflow.org/tutorials/keras/keras_tuner"
   ]
  }
 ],
 "metadata": {
  "kernelspec": {
   "display_name": "Python 3",
   "language": "python",
   "name": "python3"
  },
  "language_info": {
   "codemirror_mode": {
    "name": "ipython",
    "version": 3
   },
   "file_extension": ".py",
   "mimetype": "text/x-python",
   "name": "python",
   "nbconvert_exporter": "python",
   "pygments_lexer": "ipython3",
   "version": "3.7.12"
  },
  "papermill": {
   "default_parameters": {},
   "duration": 123.625308,
   "end_time": "2022-10-06T14:35:57.749717",
   "environment_variables": {},
   "exception": null,
   "input_path": "__notebook__.ipynb",
   "output_path": "__notebook__.ipynb",
   "parameters": {},
   "start_time": "2022-10-06T14:33:54.124409",
   "version": "2.3.4"
  }
 },
 "nbformat": 4,
 "nbformat_minor": 5
}
